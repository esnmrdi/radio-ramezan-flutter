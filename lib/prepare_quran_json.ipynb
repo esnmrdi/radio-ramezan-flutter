{
 "metadata": {
  "language_info": {
   "codemirror_mode": {
    "name": "ipython",
    "version": 3
   },
   "file_extension": ".py",
   "mimetype": "text/x-python",
   "name": "python",
   "nbconvert_exporter": "python",
   "pygments_lexer": "ipython3",
   "version": "3.8.8"
  },
  "orig_nbformat": 2,
  "kernelspec": {
   "name": "python388jvsc74a57bd0b0acd0db7f4383766e8b4b1e0229b457034d231b9a956db1857be6d912018907",
   "display_name": "Python 3.8.8 64-bit ('base': conda)"
  }
 },
 "nbformat": 4,
 "nbformat_minor": 2,
 "cells": [
  {
   "cell_type": "code",
   "execution_count": null,
   "metadata": {},
   "outputs": [],
   "source": [
    "import json"
   ]
  },
  {
   "cell_type": "code",
   "execution_count": 50,
   "metadata": {},
   "outputs": [],
   "source": [
    "with open('../texts/quran-arabic.json', 'r') as read_file:\n",
    "    arabic = json.load(read_file)\n",
    "with open('../texts/quran-farsi.json', 'r') as read_file:\n",
    "    farsi = json.load(read_file)"
   ]
  },
  {
   "cell_type": "code",
   "execution_count": 51,
   "metadata": {},
   "outputs": [],
   "source": [
    "verses = []\n",
    "for ar, fa in zip(arabic, farsi):\n",
    "    ar = ar[0].replace(u'\\u200c',' ')\n",
    "    ar = ar.replace('\\n', '')\n",
    "    fa = fa[0].replace(u'\\u200c',' ')\n",
    "    fa = fa.replace('\\n', '')\n",
    "    verse = {'ar': ar, 'fa': fa}\n",
    "    verses.append(verse)"
   ]
  },
  {
   "cell_type": "code",
   "execution_count": 52,
   "metadata": {},
   "outputs": [],
   "source": [
    "with open('../texts/quran.json', 'w', encoding='utf-8') as write_file:\n",
    "    write_file.write(json.dumps(verses, ensure_ascii=False))"
   ]
  },
  {
   "cell_type": "code",
   "execution_count": null,
   "metadata": {},
   "outputs": [],
   "source": []
  }
 ]
}